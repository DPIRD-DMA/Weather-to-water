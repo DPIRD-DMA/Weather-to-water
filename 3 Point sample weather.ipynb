{
 "cells": [
  {
   "cell_type": "markdown",
   "metadata": {},
   "source": [
    "This notebook will look over the weather data and extract point values\n"
   ]
  },
  {
   "cell_type": "code",
   "execution_count": null,
   "metadata": {},
   "outputs": [],
   "source": [
    "from tqdm.auto import tqdm\n",
    "from pathlib import Path\n",
    "import os\n",
    "import zipfile\n",
    "\n",
    "try:\n",
    "    from multiprocess import Pool\n",
    "except:\n",
    "    from multiprocessing import Pool\n",
    "import rasterio\n",
    "import geopandas as gpd\n",
    "import pandas as pd"
   ]
  },
  {
   "cell_type": "code",
   "execution_count": null,
   "metadata": {},
   "outputs": [],
   "source": [
    "# unzip point data file from repo\n",
    "zipped_point_data = os.path.join(\n",
    "    os.getcwd(), \"data\", \"all dams centroids with water and dates.zip\"\n",
    ")\n",
    "with zipfile.ZipFile(zipped_point_data, \"r\") as zip_ref:\n",
    "    zip_ref.extractall(os.path.dirname(zipped_point_data))"
   ]
  },
  {
   "cell_type": "code",
   "execution_count": null,
   "metadata": {},
   "outputs": [],
   "source": [
    "point_data_input_path = zipped_point_data.replace(\".zip\", \".gpkg\")\n",
    "os.path.isfile(point_data_input_path)"
   ]
  },
  {
   "cell_type": "code",
   "execution_count": null,
   "metadata": {},
   "outputs": [],
   "source": [
    "# read in vars from downlaod notebook\n",
    "%store -r dam_forcast_working_dir\n",
    "%store -r ANU_cliamte_downlaod_dir\n",
    "%store -r min_year\n",
    "%store -r max_year\n",
    "%store -r climate_types\n",
    "%store point_data_input_path\n",
    "print(dam_forcast_working_dir)\n",
    "print(ANU_cliamte_downlaod_dir)\n",
    "print(min_year)\n",
    "print(max_year)\n",
    "print(climate_types)"
   ]
  },
  {
   "cell_type": "code",
   "execution_count": null,
   "metadata": {},
   "outputs": [],
   "source": [
    "# output folder for the time step data\n",
    "time_step_folder = os.path.join(dam_forcast_working_dir,'monthly points')\n",
    "%store time_step_folder\n",
    "# create this folder if it does not exist\n",
    "Path(time_step_folder).mkdir(parents=True, exist_ok=True)\n",
    "time_step_folder"
   ]
  },
  {
   "cell_type": "code",
   "execution_count": null,
   "metadata": {},
   "outputs": [],
   "source": [
    "# get a list to all raster files\n",
    "raster_list = list(ANU_cliamte_downlaod_dir.glob(\"*.nc\"))\n",
    "len(raster_list)"
   ]
  },
  {
   "cell_type": "code",
   "execution_count": null,
   "metadata": {},
   "outputs": [],
   "source": [
    "# open vector data\n",
    "dam_points = gpd.read_file(point_data_input_path)\n",
    "dam_points.head()"
   ]
  },
  {
   "cell_type": "code",
   "execution_count": null,
   "metadata": {},
   "outputs": [],
   "source": [
    "# reproject to WGS 84 if not already\n",
    "if dam_points.crs.to_epsg() != 4326:\n",
    "    dam_points = dam_points.to_crs(\"EPSG:4326\")"
   ]
  },
  {
   "cell_type": "code",
   "execution_count": null,
   "metadata": {},
   "outputs": [],
   "source": [
    "# get xy coords from df\n",
    "coord_list = list(zip(dam_points[\"geometry\"].x, dam_points[\"geometry\"].y))\n",
    "coord_list[0]"
   ]
  },
  {
   "cell_type": "code",
   "execution_count": null,
   "metadata": {},
   "outputs": [],
   "source": [
    "# this func will open a climate file and extract the point values\n",
    "def extract_points_from_raster(raster_path):\n",
    "    file_name = os.path.basename(raster_path)\n",
    "    #     get the date from the file name\n",
    "    date = file_name.split(\"_\")[-1].replace(\".nc\", \"\")\n",
    "    #     get the climate type from the file name\n",
    "    climate_type = os.path.basename(raster_path).split(\"_\")[2]\n",
    "    export_file_name = f\"{date}_{climate_type}.pkl\"\n",
    "    export_path = os.path.join(time_step_folder, export_file_name)\n",
    "    #     skip if aready done\n",
    "    if not os.path.isfile(export_path):\n",
    "        #         open raster\n",
    "        src = rasterio.open(raster_path)\n",
    "        raster_vals = []\n",
    "        #         point sample raster using rio\n",
    "        for coords in src.sample(coord_list):\n",
    "            raster_vals.append(coords[0])\n",
    "        #         place into df\n",
    "        point_samp_df = pd.DataFrame(raster_vals, columns=[date])\n",
    "        #         save to disk\n",
    "        point_samp_df.to_pickle(export_path)\n",
    "\n",
    "        return export_path\n",
    "    return None"
   ]
  },
  {
   "cell_type": "code",
   "execution_count": null,
   "metadata": {},
   "outputs": [],
   "source": [
    "# extract point samples with multiprocessing\n",
    "with Pool() as p:\n",
    "    export_paths = list(\n",
    "        tqdm(\n",
    "            p.imap(extract_points_from_raster, raster_list),\n",
    "            total=len(raster_list),\n",
    "            desc=\"Extracting points from rasters\",\n",
    "        )\n",
    "    )"
   ]
  },
  {
   "cell_type": "code",
   "execution_count": null,
   "metadata": {},
   "outputs": [],
   "source": []
  }
 ],
 "metadata": {
  "kernelspec": {
   "display_name": "gis",
   "language": "python",
   "name": "python3"
  },
  "language_info": {
   "codemirror_mode": {
    "name": "ipython",
    "version": 3
   },
   "file_extension": ".py",
   "mimetype": "text/x-python",
   "name": "python",
   "nbconvert_exporter": "python",
   "pygments_lexer": "ipython3",
   "version": "3.11.9"
  }
 },
 "nbformat": 4,
 "nbformat_minor": 4
}
