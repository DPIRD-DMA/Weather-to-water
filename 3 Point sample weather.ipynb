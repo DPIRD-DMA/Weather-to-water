{
 "cells": [
  {
   "cell_type": "markdown",
   "metadata": {},
   "source": [
    "This notebook will look over the weather data and extract point values"
   ]
  },
  {
   "cell_type": "code",
   "execution_count": 1,
   "metadata": {},
   "outputs": [],
   "source": [
    "from tqdm.auto import tqdm\n",
    "from pathlib import Path\n",
    "import os\n",
    "import zipfile\n",
    "from glob import glob\n",
    "\n",
    "from multiprocessing import Pool\n",
    "import rasterio\n",
    "import geopandas as gpd\n",
    "import pandas as pd"
   ]
  },
  {
   "cell_type": "code",
   "execution_count": 2,
   "metadata": {},
   "outputs": [],
   "source": [
    "# unzip point data file from repo\n",
    "zipped_point_data = os.path.join(os.getcwd(),'data','all dams centroids with water and dates.zip')\n",
    "with zipfile.ZipFile(zipped_point_data, 'r') as zip_ref:\n",
    "    zip_ref.extractall(os.path.dirname(zipped_point_data))"
   ]
  },
  {
   "cell_type": "code",
   "execution_count": 3,
   "metadata": {},
   "outputs": [
    {
     "data": {
      "text/plain": [
       "True"
      ]
     },
     "execution_count": 3,
     "metadata": {},
     "output_type": "execute_result"
    }
   ],
   "source": [
    "point_data_input_path = zipped_point_data.replace('.zip','.gpkg')\n",
    "os.path.isfile(point_data_input_path)"
   ]
  },
  {
   "cell_type": "code",
   "execution_count": 4,
   "metadata": {},
   "outputs": [
    {
     "name": "stdout",
     "output_type": "stream",
     "text": [
      "Stored 'point_data_input_path' (str)\n"
     ]
    }
   ],
   "source": [
    "# read in vars from downlaod notebook\n",
    "%store -r dam_forcast_working_dir\n",
    "%store -r ANU_cliamte_downlaod_dir\n",
    "%store -r min_year\n",
    "%store -r max_year\n",
    "%store -r climate_types\n",
    "%store point_data_input_path"
   ]
  },
  {
   "cell_type": "code",
   "execution_count": 5,
   "metadata": {},
   "outputs": [
    {
     "name": "stdout",
     "output_type": "stream",
     "text": [
      "Stored 'time_step_folder' (str)\n"
     ]
    },
    {
     "data": {
      "text/plain": [
       "'/home/nick/Documents/Work code/Weather-to-water/working/monthly points'"
      ]
     },
     "execution_count": 5,
     "metadata": {},
     "output_type": "execute_result"
    }
   ],
   "source": [
    "# output folder for the time step data\n",
    "time_step_folder = os.path.join(dam_forcast_working_dir,'monthly points')\n",
    "%store time_step_folder\n",
    "# create this folder if it does not exist\n",
    "Path(time_step_folder).mkdir(parents=True, exist_ok=True)\n",
    "time_step_folder"
   ]
  },
  {
   "cell_type": "code",
   "execution_count": 6,
   "metadata": {},
   "outputs": [
    {
     "data": {
      "text/plain": [
       "144"
      ]
     },
     "execution_count": 6,
     "metadata": {},
     "output_type": "execute_result"
    }
   ],
   "source": [
    "# get a list to all raster files\n",
    "raster_list = glob(ANU_cliamte_downlaod_dir+'/*.nc')\n",
    "len(raster_list) "
   ]
  },
  {
   "cell_type": "code",
   "execution_count": 7,
   "metadata": {},
   "outputs": [
    {
     "data": {
      "text/html": [
       "<div>\n",
       "<style scoped>\n",
       "    .dataframe tbody tr th:only-of-type {\n",
       "        vertical-align: middle;\n",
       "    }\n",
       "\n",
       "    .dataframe tbody tr th {\n",
       "        vertical-align: top;\n",
       "    }\n",
       "\n",
       "    .dataframe thead th {\n",
       "        text-align: right;\n",
       "    }\n",
       "</style>\n",
       "<table border=\"1\" class=\"dataframe\">\n",
       "  <thead>\n",
       "    <tr style=\"text-align: right;\">\n",
       "      <th></th>\n",
       "      <th>file_name</th>\n",
       "      <th>dam_area</th>\n",
       "      <th>water_area</th>\n",
       "      <th>SRC_DATE</th>\n",
       "      <th>file_name_pred</th>\n",
       "      <th>class</th>\n",
       "      <th>class_name</th>\n",
       "      <th>geometry</th>\n",
       "    </tr>\n",
       "  </thead>\n",
       "  <tbody>\n",
       "    <tr>\n",
       "      <th>0</th>\n",
       "      <td>arcgisonline_1286093.tif</td>\n",
       "      <td>1782.758036</td>\n",
       "      <td>1231.106859</td>\n",
       "      <td>20170126.0</td>\n",
       "      <td>arcgisonline_1286093_pred_and_score.tif</td>\n",
       "      <td>0</td>\n",
       "      <td>dam and water</td>\n",
       "      <td>POINT (1317606.405 -4019274.986)</td>\n",
       "    </tr>\n",
       "    <tr>\n",
       "      <th>1</th>\n",
       "      <td>arcgisonline_1337387.tif</td>\n",
       "      <td>1917.350912</td>\n",
       "      <td>1042.750433</td>\n",
       "      <td>20151214.0</td>\n",
       "      <td>arcgisonline_1337387_pred_and_score.tif</td>\n",
       "      <td>0</td>\n",
       "      <td>dam and water</td>\n",
       "      <td>POINT (1213139.420 -4269770.352)</td>\n",
       "    </tr>\n",
       "    <tr>\n",
       "      <th>2</th>\n",
       "      <td>arcgisonline_1702518.tif</td>\n",
       "      <td>2300.790143</td>\n",
       "      <td>698.207560</td>\n",
       "      <td>20141023.0</td>\n",
       "      <td>arcgisonline_1702518_pred_and_score.tif</td>\n",
       "      <td>0</td>\n",
       "      <td>dam and water</td>\n",
       "      <td>POINT (1172386.054 -4556884.461)</td>\n",
       "    </tr>\n",
       "    <tr>\n",
       "      <th>3</th>\n",
       "      <td>arcgisonline_1274916.tif</td>\n",
       "      <td>403.480805</td>\n",
       "      <td>90.273377</td>\n",
       "      <td>20160112.0</td>\n",
       "      <td>arcgisonline_1274916_pred_and_score.tif</td>\n",
       "      <td>0</td>\n",
       "      <td>dam and water</td>\n",
       "      <td>POINT (826008.345 -4034749.462)</td>\n",
       "    </tr>\n",
       "    <tr>\n",
       "      <th>4</th>\n",
       "      <td>arcgisonline_704977.tif</td>\n",
       "      <td>1774.881116</td>\n",
       "      <td>749.984968</td>\n",
       "      <td>20160502.0</td>\n",
       "      <td>arcgisonline_704977_pred_and_score.tif</td>\n",
       "      <td>0</td>\n",
       "      <td>dam and water</td>\n",
       "      <td>POINT (1651414.073 -3700910.019)</td>\n",
       "    </tr>\n",
       "  </tbody>\n",
       "</table>\n",
       "</div>"
      ],
      "text/plain": [
       "                  file_name     dam_area   water_area    SRC_DATE  \\\n",
       "0  arcgisonline_1286093.tif  1782.758036  1231.106859  20170126.0   \n",
       "1  arcgisonline_1337387.tif  1917.350912  1042.750433  20151214.0   \n",
       "2  arcgisonline_1702518.tif  2300.790143   698.207560  20141023.0   \n",
       "3  arcgisonline_1274916.tif   403.480805    90.273377  20160112.0   \n",
       "4   arcgisonline_704977.tif  1774.881116   749.984968  20160502.0   \n",
       "\n",
       "                            file_name_pred  class     class_name  \\\n",
       "0  arcgisonline_1286093_pred_and_score.tif      0  dam and water   \n",
       "1  arcgisonline_1337387_pred_and_score.tif      0  dam and water   \n",
       "2  arcgisonline_1702518_pred_and_score.tif      0  dam and water   \n",
       "3  arcgisonline_1274916_pred_and_score.tif      0  dam and water   \n",
       "4   arcgisonline_704977_pred_and_score.tif      0  dam and water   \n",
       "\n",
       "                           geometry  \n",
       "0  POINT (1317606.405 -4019274.986)  \n",
       "1  POINT (1213139.420 -4269770.352)  \n",
       "2  POINT (1172386.054 -4556884.461)  \n",
       "3   POINT (826008.345 -4034749.462)  \n",
       "4  POINT (1651414.073 -3700910.019)  "
      ]
     },
     "execution_count": 7,
     "metadata": {},
     "output_type": "execute_result"
    }
   ],
   "source": [
    "# open vector data\n",
    "dam_points = gpd.read_file(point_data_input_path)\n",
    "dam_points.head()"
   ]
  },
  {
   "cell_type": "code",
   "execution_count": 8,
   "metadata": {},
   "outputs": [],
   "source": [
    "# reproject to WGS 84 if not already\n",
    "if dam_points.crs.to_epsg() != 4326:\n",
    "    dam_points = dam_points.to_crs(\"EPSG:4326\")"
   ]
  },
  {
   "cell_type": "code",
   "execution_count": 9,
   "metadata": {},
   "outputs": [
    {
     "data": {
      "text/plain": [
       "(146.6588069486813, -36.09348834105702)"
      ]
     },
     "execution_count": 9,
     "metadata": {},
     "output_type": "execute_result"
    }
   ],
   "source": [
    "# get xy coords from df\n",
    "coord_list = list(zip(dam_points['geometry'].x, dam_points['geometry'].y))\n",
    "coord_list[0]"
   ]
  },
  {
   "cell_type": "code",
   "execution_count": 12,
   "metadata": {},
   "outputs": [],
   "source": [
    "# this func will open a climate file and extract the point values\n",
    "def extract_points_from_raster(raster_path):\n",
    "    file_name = os.path.basename(raster_path)\n",
    "#     get the date from the file name\n",
    "    date = file_name.split(\"_\")[-1].replace('.nc','')\n",
    "#     get the climate type from the file name\n",
    "    climate_type = os.path.basename(raster_path).split(\"_\")[2]\n",
    "    export_file_name = f'{date}_{climate_type}.pkl'\n",
    "    export_path = os.path.join(time_step_folder,export_file_name)\n",
    "#     skip if aready done\n",
    "    if not os.path.isfile(export_path):\n",
    "#         open raster\n",
    "        src = rasterio.open(raster_path)\n",
    "        raster_vals = []\n",
    "#         point sample raster using rio\n",
    "        for coords in src.sample(coord_list):\n",
    "            raster_vals.append(coords[0])\n",
    "#         place into df\n",
    "        point_samp_df = pd.DataFrame(raster_vals,columns=[date])\n",
    "#         save to disk\n",
    "        point_samp_df.to_pickle(export_path)\n",
    "\n",
    "        return export_path\n",
    "    return None"
   ]
  },
  {
   "cell_type": "code",
   "execution_count": 11,
   "metadata": {},
   "outputs": [
    {
     "data": {
      "application/vnd.jupyter.widget-view+json": {
       "model_id": "45a0e335289c40969fcc166e4d764c60",
       "version_major": 2,
       "version_minor": 0
      },
      "text/plain": [
       "Extracting points from rasters:   0%|          | 0/144 [00:00<?, ?it/s]"
      ]
     },
     "metadata": {},
     "output_type": "display_data"
    }
   ],
   "source": [
    "# extract point samples with multiprocessing\n",
    "with Pool() as p:\n",
    "    export_paths = list(tqdm(p.imap(extract_points_from_raster,raster_list),\n",
    "                             total=len(raster_list),desc = 'Extracting points from rasters'))"
   ]
  },
  {
   "cell_type": "code",
   "execution_count": null,
   "metadata": {},
   "outputs": [],
   "source": []
  }
 ],
 "metadata": {
  "kernelspec": {
   "display_name": "Python 3 (ipykernel)",
   "language": "python",
   "name": "python3"
  },
  "language_info": {
   "codemirror_mode": {
    "name": "ipython",
    "version": 3
   },
   "file_extension": ".py",
   "mimetype": "text/x-python",
   "name": "python",
   "nbconvert_exporter": "python",
   "pygments_lexer": "ipython3",
   "version": "3.11.4"
  }
 },
 "nbformat": 4,
 "nbformat_minor": 4
}
