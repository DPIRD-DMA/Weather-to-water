{
 "cells": [
  {
   "cell_type": "code",
   "execution_count": 9,
   "id": "25b579f6",
   "metadata": {},
   "outputs": [],
   "source": [
    "min_year = 2021\n",
    "max_year = 2021"
   ]
  },
  {
   "cell_type": "code",
   "execution_count": null,
   "id": "22a5f389",
   "metadata": {},
   "outputs": [
    {
     "name": "stdout",
     "output_type": "stream",
     "text": [
      "Stored 'min_year' (int)\n",
      "Stored 'max_year' (int)\n",
      "Downlaod data\n",
      "Stored 'dam_forcast_working_dir' (str)\n",
      "Stored 'ANU_cliamte_downlaod_dir' (str)\n",
      "Stored 'min_year' (int)\n",
      "Stored 'max_year' (int)\n",
      "Stored 'climate_types' (list)\n",
      "Server is up\n",
      "Sample url \n",
      "https://dapds00.nci.org.au/thredds/fileServer/gh70/ANUClimate/v2-0/stable/month/tavg/2020/ANUClimate_v2-0_tavg_monthly_202001.nc\n",
      "\n",
      "Total url count = 48\n"
     ]
    },
    {
     "data": {
      "application/vnd.jupyter.widget-view+json": {
       "model_id": "3e7287cb8ca44073ac3ebb351ca10c67",
       "version_major": 2,
       "version_minor": 0
      },
      "text/plain": [
       "  0%|          | 0/48 [00:00<?, ?it/s]"
      ]
     },
     "metadata": {},
     "output_type": "display_data"
    },
    {
     "name": "stdout",
     "output_type": "stream",
     "text": [
      "Extracting data for each dam\n",
      "Stored 'point_data_input_path' (str)\n",
      "Stored 'time_step_folder' (str)\n"
     ]
    },
    {
     "data": {
      "application/vnd.jupyter.widget-view+json": {
       "model_id": "1eb6d7796a7842b7a5960bf009a330c3",
       "version_major": 2,
       "version_minor": 0
      },
      "text/plain": [
       "Extracting points from rasters:   0%|          | 0/48 [00:00<?, ?it/s]"
      ]
     },
     "metadata": {},
     "output_type": "display_data"
    },
    {
     "name": "stdout",
     "output_type": "stream",
     "text": [
      "Running data through model\n",
      "Reprojecting\n"
     ]
    },
    {
     "data": {
      "application/vnd.jupyter.widget-view+json": {
       "model_id": "67eac2bad177444ab65a27fff1ffa71d",
       "version_major": 2,
       "version_minor": 0
      },
      "text/plain": [
       "  0%|          | 0/12 [00:00<?, ?it/s]"
      ]
     },
     "metadata": {},
     "output_type": "display_data"
    },
    {
     "data": {
      "application/vnd.jupyter.widget-view+json": {
       "model_id": "9ea636c1f69e4c7396f3c1f567ea5c3a",
       "version_major": 2,
       "version_minor": 0
      },
      "text/plain": [
       "  0%|          | 0/12 [00:00<?, ?it/s]"
      ]
     },
     "metadata": {},
     "output_type": "display_data"
    }
   ],
   "source": [
    "%store min_year max_year\n",
    "print('Downlaod data')\n",
    "%run \"2 Download climate data.ipynb\"\n",
    "print('Extracting data for each dam')\n",
    "%run \"3 Point sample weather.ipynb\"\n",
    "print('Running data through model')\n",
    "%run \"4 Dam forecast pred XGB.ipynb\"\n",
    "print('Finshed')"
   ]
  },
  {
   "cell_type": "code",
   "execution_count": null,
   "id": "2e928d0d",
   "metadata": {},
   "outputs": [],
   "source": []
  }
 ],
 "metadata": {
  "kernelspec": {
   "display_name": "Python 3 (ipykernel)",
   "language": "python",
   "name": "python3"
  },
  "language_info": {
   "codemirror_mode": {
    "name": "ipython",
    "version": 3
   },
   "file_extension": ".py",
   "mimetype": "text/x-python",
   "name": "python",
   "nbconvert_exporter": "python",
   "pygments_lexer": "ipython3",
   "version": "3.8.13"
  }
 },
 "nbformat": 4,
 "nbformat_minor": 5
}
