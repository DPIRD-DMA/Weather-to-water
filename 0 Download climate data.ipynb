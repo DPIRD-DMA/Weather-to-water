{
 "cells": [
  {
   "cell_type": "code",
   "execution_count": 1,
   "id": "3e10a338",
   "metadata": {},
   "outputs": [],
   "source": [
    "import urllib.request\n",
    "import os\n",
    "from tqdm.auto import tqdm\n",
    "from multiprocess.pool import ThreadPool\n",
    "from pathlib import Path"
   ]
  },
  {
   "cell_type": "code",
   "execution_count": 2,
   "id": "43c1abfd",
   "metadata": {},
   "outputs": [],
   "source": [
    "min_year = 2020\n",
    "max_year = 2021\n",
    "downlaod_dir = '/Users/nicholaswright/Downloads/test_dl'"
   ]
  },
  {
   "cell_type": "code",
   "execution_count": 3,
   "id": "23ad0dcb",
   "metadata": {},
   "outputs": [],
   "source": [
    "climate_types = ['rain','tavg']\n",
    "base_url = 'https://dapds00.nci.org.au/thredds/fileServer/gh70/ANUClimate/v2-0/stable/month'"
   ]
  },
  {
   "cell_type": "code",
   "execution_count": 4,
   "id": "bc4d2303",
   "metadata": {},
   "outputs": [],
   "source": [
    "Path(downlaod_dir).mkdir(exist_ok=True)"
   ]
  },
  {
   "cell_type": "code",
   "execution_count": 5,
   "id": "fac71664",
   "metadata": {},
   "outputs": [],
   "source": [
    "download_urls = []\n",
    "for year in range(min_year-1,max_year+1):\n",
    "    for month in range(1,13):\n",
    "        month = str(month).zfill(2)\n",
    "        \n",
    "        for climate_type in climate_types:\n",
    "            \n",
    "            file_name = f'ANUClimate_v2-0_{climate_type}_monthly_{year}{month}.nc'\n",
    "            params = [base_url,climate_type,str(year),file_name]\n",
    "            dl_url = f'{base_url}/{climate_type}/{year}/{file_name}'\n",
    "            download_urls.append(dl_url)"
   ]
  },
  {
   "cell_type": "code",
   "execution_count": null,
   "id": "df25288f",
   "metadata": {},
   "outputs": [],
   "source": [
    "len(download_urls)"
   ]
  },
  {
   "cell_type": "code",
   "execution_count": 6,
   "id": "bf34524d",
   "metadata": {},
   "outputs": [],
   "source": [
    "def downlaod(url):\n",
    "    file_name = os.path.basename(url)\n",
    "    local_path = os.path.join(downlaod_dir,file_name)\n",
    "    urllib.request.urlretrieve(url, local_path)"
   ]
  },
  {
   "cell_type": "code",
   "execution_count": 7,
   "id": "569f251a",
   "metadata": {},
   "outputs": [
    {
     "data": {
      "application/vnd.jupyter.widget-view+json": {
       "model_id": "b2c60ae394364c219c094271e6923713",
       "version_major": 2,
       "version_minor": 0
      },
      "text/plain": [
       "  0%|          | 0/72 [00:00<?, ?it/s]"
      ]
     },
     "metadata": {},
     "output_type": "display_data"
    }
   ],
   "source": [
    "with ThreadPool(10) as p:\n",
    "    list(tqdm(p.map(downlaod,download_urls),total = len(download_urls)))"
   ]
  },
  {
   "cell_type": "code",
   "execution_count": null,
   "id": "63130b44",
   "metadata": {},
   "outputs": [],
   "source": []
  }
 ],
 "metadata": {
  "kernelspec": {
   "display_name": "Python 3 (ipykernel)",
   "language": "python",
   "name": "python3"
  },
  "language_info": {
   "codemirror_mode": {
    "name": "ipython",
    "version": 3
   },
   "file_extension": ".py",
   "mimetype": "text/x-python",
   "name": "python",
   "nbconvert_exporter": "python",
   "pygments_lexer": "ipython3",
   "version": "3.8.10"
  }
 },
 "nbformat": 4,
 "nbformat_minor": 5
}
