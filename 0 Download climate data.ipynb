{
 "cells": [
  {
   "cell_type": "markdown",
   "id": "17744885",
   "metadata": {},
   "source": [
    "This notebook will downlaod ANU raster climate data from the NCI"
   ]
  },
  {
   "cell_type": "code",
   "execution_count": 13,
   "id": "7688a6f7",
   "metadata": {},
   "outputs": [],
   "source": [
    "import urllib.request\n",
    "import os\n",
    "from tqdm.auto import tqdm\n",
    "from multiprocess.pool import ThreadPool\n",
    "from pathlib import Path"
   ]
  },
  {
   "cell_type": "code",
   "execution_count": 14,
   "id": "43c1abfd",
   "metadata": {},
   "outputs": [],
   "source": [
    "# define years your are interested in\n",
    "min_year = 2020\n",
    "max_year = 2021\n",
    "# dir to store raster data\n",
    "downlaod_dir = '/Users/nicholaswright/Downloads/test_dl'"
   ]
  },
  {
   "cell_type": "code",
   "execution_count": 15,
   "id": "198f86a5",
   "metadata": {},
   "outputs": [],
   "source": [
    "Path(downlaod_dir).mkdir(exist_ok=True)"
   ]
  },
  {
   "cell_type": "code",
   "execution_count": 16,
   "id": "23ad0dcb",
   "metadata": {},
   "outputs": [],
   "source": [
    "# climate variables to downlaod\n",
    "climate_types = ['rain','tavg']\n",
    "base_url = 'https://dapds00.nci.org.au/thredds/fileServer/gh70/ANUClimate/v2-0/stable/month'\n",
    "check_avaliability_url = 'https://dapds00.nci.org.au/thredds/catalog/gh70/ANUClimate/v2-0/stable/month/catalog.html'"
   ]
  },
  {
   "cell_type": "code",
   "execution_count": 18,
   "id": "683c21ea",
   "metadata": {},
   "outputs": [
    {
     "name": "stdout",
     "output_type": "stream",
     "text": [
      "Server is up\n"
     ]
    }
   ],
   "source": [
    "# make sure the NCI thredds server is up\n",
    "try:\n",
    "    responce_code = urllib.request.urlopen(check_avaliability_url).getcode()\n",
    "    if responce_code == 200:\n",
    "        print('Server is up')\n",
    "    else:\n",
    "        print(f'The server is down, responce code {responce_code}')\n",
    "except:\n",
    "    print('No internet connection!')"
   ]
  },
  {
   "cell_type": "code",
   "execution_count": 31,
   "id": "fac71664",
   "metadata": {},
   "outputs": [
    {
     "name": "stdout",
     "output_type": "stream",
     "text": [
      "Sample url \n",
      "https://dapds00.nci.org.au/thredds/fileServer/gh70/ANUClimate/v2-0/stable/month/tavg/2019/ANUClimate_v2-0_tavg_monthly_201901.nc\n",
      "\n",
      "Total url count = 72\n"
     ]
    }
   ],
   "source": [
    "# make a list of urls to download\n",
    "download_urls = []\n",
    "# loop over each year\n",
    "for year in range(min_year-1,max_year+1):\n",
    "#     loop over each month\n",
    "    for month in range(1,13):\n",
    "#         add leading 0 to months\n",
    "        month = str(month).zfill(2)\n",
    "#         loop over climate types\n",
    "        for climate_type in climate_types:\n",
    "#             build file names and url\n",
    "            file_name = f'ANUClimate_v2-0_{climate_type}_monthly_{year}{month}.nc'\n",
    "            params = [base_url,climate_type,str(year),file_name]\n",
    "            dl_url = f'{base_url}/{climate_type}/{year}/{file_name}'\n",
    "            download_urls.append(dl_url)\n",
    "            \n",
    "print(f'Sample url \\n{download_urls[1]}\\n')\n",
    "print(f'Total url count = {len(download_urls)}')"
   ]
  },
  {
   "cell_type": "code",
   "execution_count": 32,
   "id": "bf34524d",
   "metadata": {},
   "outputs": [],
   "source": [
    "# func to downlaod url to specified local dir\n",
    "def downlaod(url):\n",
    "    file_name = os.path.basename(url)\n",
    "    local_path = os.path.join(downlaod_dir,file_name)\n",
    "    urllib.request.urlretrieve(url, local_path)"
   ]
  },
  {
   "cell_type": "code",
   "execution_count": 7,
   "id": "569f251a",
   "metadata": {},
   "outputs": [
    {
     "data": {
      "application/vnd.jupyter.widget-view+json": {
       "model_id": "b2c60ae394364c219c094271e6923713",
       "version_major": 2,
       "version_minor": 0
      },
      "text/plain": [
       "  0%|          | 0/72 [00:00<?, ?it/s]"
      ]
     },
     "metadata": {},
     "output_type": "display_data"
    }
   ],
   "source": [
    "# downlaod climate data multible at a time\n",
    "with ThreadPool(10) as p:\n",
    "    list(tqdm(p.map(downlaod,download_urls),total = len(download_urls)))"
   ]
  },
  {
   "cell_type": "code",
   "execution_count": null,
   "id": "63130b44",
   "metadata": {},
   "outputs": [],
   "source": []
  }
 ],
 "metadata": {
  "kernelspec": {
   "display_name": "Python 3 (ipykernel)",
   "language": "python",
   "name": "python3"
  },
  "language_info": {
   "codemirror_mode": {
    "name": "ipython",
    "version": 3
   },
   "file_extension": ".py",
   "mimetype": "text/x-python",
   "name": "python",
   "nbconvert_exporter": "python",
   "pygments_lexer": "ipython3",
   "version": "3.8.10"
  }
 },
 "nbformat": 4,
 "nbformat_minor": 5
}
