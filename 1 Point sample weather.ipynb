{
 "cells": [
  {
   "cell_type": "code",
   "execution_count": 1,
   "metadata": {},
   "outputs": [],
   "source": [
    "#  This notebook will look over the weather data and extract point values"
   ]
  },
  {
   "cell_type": "code",
   "execution_count": 2,
   "metadata": {},
   "outputs": [],
   "source": [
    "from tqdm.auto import tqdm\n",
    "from pathlib import Path\n",
    "import datetime as dt\n",
    "import os\n",
    "from threading import Thread\n",
    "import time\n",
    "\n",
    "from multiprocess import Pool\n",
    "import rasterio\n",
    "import geopandas as gpd\n",
    "import pandas as pd"
   ]
  },
  {
   "cell_type": "code",
   "execution_count": 3,
   "metadata": {},
   "outputs": [],
   "source": [
    "min_year = 2020\n",
    "max_year = 2021"
   ]
  },
  {
   "cell_type": "code",
   "execution_count": 4,
   "metadata": {},
   "outputs": [
    {
     "data": {
      "text/plain": [
       "True"
      ]
     },
     "execution_count": 4,
     "metadata": {},
     "output_type": "execute_result"
    }
   ],
   "source": [
    "# point this at the location data\n",
    "point_data_folder = '/Users/nicholaswright/Documents/Dam-Forecast/data'#'/mnt/2TB Working/Projects/Dam forecast/v4'\n",
    "\n",
    "# 'all dams centroids with water and dates sample.gpkg' is just a small sample use 'all dams centroids with water and dates.gpkg' for all dams\n",
    "point_data_file_name = 'all dams centroids with water and dates sample.gpkg'#'all dams centroids with water and dates WGS84.gpkg'\n",
    "point_data_input_path = os.path.join(point_data_folder,point_data_file_name)\n",
    "# make sure this exists\n",
    "os.path.isfile(point_data_input_path)"
   ]
  },
  {
   "cell_type": "code",
   "execution_count": 5,
   "metadata": {},
   "outputs": [],
   "source": [
    "# point this at your weatehr data folder\n",
    "climate_raster_folder = '/Users/nicholaswright/Downloads/test_dl'#'/mnt/2TB Working/Projects/Dam forecast/Weather raster data'"
   ]
  },
  {
   "cell_type": "code",
   "execution_count": 6,
   "metadata": {},
   "outputs": [],
   "source": [
    "# this is our output folder for the time step data\n",
    "time_step_folder = '/Users/nicholaswright/Downloads/pkl files'#'/mnt/2TB Working/Projects/Dam forecast/v4/forecast/time steps'\n",
    "# make this folder if it does not exist\n",
    "Path(time_step_folder).mkdir(parents=True, exist_ok=True)"
   ]
  },
  {
   "cell_type": "code",
   "execution_count": 7,
   "metadata": {},
   "outputs": [],
   "source": [
    "climate_types = ['rain','tavg']"
   ]
  },
  {
   "cell_type": "code",
   "execution_count": 8,
   "metadata": {},
   "outputs": [
    {
     "data": {
      "text/plain": [
       "72"
      ]
     },
     "execution_count": 8,
     "metadata": {},
     "output_type": "execute_result"
    }
   ],
   "source": [
    "# depeding on how you got your weatehr data it may be in one of many raster formats, \n",
    "# this script works with both .nc and .adf files\n",
    "# you can downlaod data from\n",
    "# htitstps://dapds00.nci.org.au/thredds/catalogs/gh70/v2-0/v2-0.html\n",
    "\n",
    "# get a refence to all raster files\n",
    "raster_list = []\n",
    "for root, dirs, files in os.walk(climate_raster_folder):\n",
    "    for file in files:\n",
    "        if file.endswith(('1.adf','.nc','flt')):\n",
    "            raster_list.append(os.path.join(root, file))\n",
    "len(raster_list) "
   ]
  },
  {
   "cell_type": "code",
   "execution_count": 9,
   "metadata": {},
   "outputs": [
    {
     "data": {
      "text/plain": [
       "['/Users/nicholaswright/Downloads/test_dl/ANUClimate_v2-0_rain_monthly_202103.nc',\n",
       " '/Users/nicholaswright/Downloads/test_dl/ANUClimate_v2-0_rain_monthly_202012.nc',\n",
       " '/Users/nicholaswright/Downloads/test_dl/ANUClimate_v2-0_tavg_monthly_202008.nc',\n",
       " '/Users/nicholaswright/Downloads/test_dl/ANUClimate_v2-0_rain_monthly_201905.nc',\n",
       " '/Users/nicholaswright/Downloads/test_dl/ANUClimate_v2-0_tavg_monthly_202109.nc',\n",
       " '/Users/nicholaswright/Downloads/test_dl/ANUClimate_v2-0_rain_monthly_202002.nc',\n",
       " '/Users/nicholaswright/Downloads/test_dl/ANUClimate_v2-0_rain_monthly_202107.nc',\n",
       " '/Users/nicholaswright/Downloads/test_dl/ANUClimate_v2-0_rain_monthly_201901.nc',\n",
       " '/Users/nicholaswright/Downloads/test_dl/ANUClimate_v2-0_rain_monthly_201911.nc',\n",
       " '/Users/nicholaswright/Downloads/test_dl/ANUClimate_v2-0_rain_monthly_202006.nc']"
      ]
     },
     "execution_count": 9,
     "metadata": {},
     "output_type": "execute_result"
    }
   ],
   "source": [
    "# some raster files \n",
    "raster_list[:10]"
   ]
  },
  {
   "cell_type": "code",
   "execution_count": 10,
   "metadata": {},
   "outputs": [],
   "source": [
    "# depedning on your data source the climate variable labels may be inconsistant\n",
    "# the below variables are for rain and temp\n",
    "include_types =['tavg','avgt','rain','Rain','Temp']"
   ]
  },
  {
   "cell_type": "code",
   "execution_count": 11,
   "metadata": {},
   "outputs": [],
   "source": [
    "# limit raster list to only the varibles listed above\n",
    "short_list=[]\n",
    "for raster in raster_list:\n",
    "    for inc_type in include_types:\n",
    "        if inc_type in raster:\n",
    "            short_list.append(raster)\n"
   ]
  },
  {
   "cell_type": "code",
   "execution_count": 12,
   "metadata": {},
   "outputs": [
    {
     "data": {
      "text/plain": [
       "72"
      ]
     },
     "execution_count": 12,
     "metadata": {},
     "output_type": "execute_result"
    }
   ],
   "source": [
    "# get a list of file names\n",
    "file_names = [os.path.basename(file_path) for file_path in short_list]\n",
    "len(file_names)"
   ]
  },
  {
   "cell_type": "code",
   "execution_count": 13,
   "metadata": {},
   "outputs": [
    {
     "name": "stdout",
     "output_type": "stream",
     "text": [
      "[2020, 2021]\n",
      "[1, 2, 3, 4, 5, 6, 7, 8, 9, 10, 11, 12]\n"
     ]
    }
   ],
   "source": [
    "# get list of years and months which will be the end dates for the time series\n",
    "years = list(range(min_year,max_year+1))\n",
    "print(years)\n",
    "months = list(range(1,13))\n",
    "print(months)"
   ]
  },
  {
   "cell_type": "code",
   "execution_count": 14,
   "metadata": {},
   "outputs": [
    {
     "name": "stdout",
     "output_type": "stream",
     "text": [
      "Looks like you have all necessary data\n"
     ]
    }
   ],
   "source": [
    "# check is any climate data is missing\n",
    "missing_data = False\n",
    "# loop over years and months\n",
    "for year in range(min_year-1,max_year+1):\n",
    "    for month in months:\n",
    "        month = str(month).zfill(2)\n",
    "        date = f'{year}{month}'\n",
    "        for climate_type in climate_types:\n",
    "#             build file name\n",
    "            check_name = f'ANUClimate_v2-0_{climate_type}_monthly_{date}.nc'\n",
    "#             check if file is in list\n",
    "            if check_name not in file_names:\n",
    "                print(check_name, 'missing')\n",
    "                missing_data = True\n",
    "if missing_data:\n",
    "    print('You have missing climate data!')\n",
    "else:\n",
    "    print('Looks like you have all necessary data')"
   ]
  },
  {
   "cell_type": "code",
   "execution_count": 15,
   "metadata": {},
   "outputs": [
    {
     "data": {
      "text/html": [
       "<div>\n",
       "<style scoped>\n",
       "    .dataframe tbody tr th:only-of-type {\n",
       "        vertical-align: middle;\n",
       "    }\n",
       "\n",
       "    .dataframe tbody tr th {\n",
       "        vertical-align: top;\n",
       "    }\n",
       "\n",
       "    .dataframe thead th {\n",
       "        text-align: right;\n",
       "    }\n",
       "</style>\n",
       "<table border=\"1\" class=\"dataframe\">\n",
       "  <thead>\n",
       "    <tr style=\"text-align: right;\">\n",
       "      <th></th>\n",
       "      <th>file_name</th>\n",
       "      <th>area</th>\n",
       "      <th>area_2</th>\n",
       "      <th>SRC_DATE</th>\n",
       "      <th>file_name_pred</th>\n",
       "      <th>class</th>\n",
       "      <th>class_name</th>\n",
       "      <th>geometry</th>\n",
       "    </tr>\n",
       "  </thead>\n",
       "  <tbody>\n",
       "    <tr>\n",
       "      <th>0</th>\n",
       "      <td>arcgisonline_1686584.tif</td>\n",
       "      <td>1472.265188</td>\n",
       "      <td>293.852789</td>\n",
       "      <td>20160217.0</td>\n",
       "      <td>arcgisonline_1686584_pred_and_score.tif</td>\n",
       "      <td>0</td>\n",
       "      <td>dam and water</td>\n",
       "      <td>POINT (-943988.599 -3637895.597)</td>\n",
       "    </tr>\n",
       "    <tr>\n",
       "      <th>1</th>\n",
       "      <td>arcgisonline_1686963.tif</td>\n",
       "      <td>3511.531725</td>\n",
       "      <td>1348.727385</td>\n",
       "      <td>20150121.0</td>\n",
       "      <td>arcgisonline_1686963_pred_and_score.tif</td>\n",
       "      <td>0</td>\n",
       "      <td>dam and water</td>\n",
       "      <td>POINT (-965660.198 -3651584.893)</td>\n",
       "    </tr>\n",
       "    <tr>\n",
       "      <th>2</th>\n",
       "      <td>arcgisonline_437392.tif</td>\n",
       "      <td>7400.931025</td>\n",
       "      <td>NaN</td>\n",
       "      <td>20161230.0</td>\n",
       "      <td>arcgisonline_437392_pred_and_score.tif</td>\n",
       "      <td>2</td>\n",
       "      <td>no water</td>\n",
       "      <td>POINT (1448235.502 -3334977.496)</td>\n",
       "    </tr>\n",
       "    <tr>\n",
       "      <th>3</th>\n",
       "      <td>arcgisonline_1747284.tif</td>\n",
       "      <td>2925.907475</td>\n",
       "      <td>2924.952538</td>\n",
       "      <td>20160302.0</td>\n",
       "      <td>arcgisonline_1747284_pred_and_score.tif</td>\n",
       "      <td>1</td>\n",
       "      <td>no dam</td>\n",
       "      <td>POINT (1299932.576 -4777809.258)</td>\n",
       "    </tr>\n",
       "    <tr>\n",
       "      <th>4</th>\n",
       "      <td>arcgisonline_411890.tif</td>\n",
       "      <td>5270.397670</td>\n",
       "      <td>15.310323</td>\n",
       "      <td>20150315.0</td>\n",
       "      <td>arcgisonline_411890_pred_and_score.tif</td>\n",
       "      <td>2</td>\n",
       "      <td>no water</td>\n",
       "      <td>POINT (1189137.120 -3799738.803)</td>\n",
       "    </tr>\n",
       "  </tbody>\n",
       "</table>\n",
       "</div>"
      ],
      "text/plain": [
       "                  file_name         area       area_2    SRC_DATE  \\\n",
       "0  arcgisonline_1686584.tif  1472.265188   293.852789  20160217.0   \n",
       "1  arcgisonline_1686963.tif  3511.531725  1348.727385  20150121.0   \n",
       "2   arcgisonline_437392.tif  7400.931025          NaN  20161230.0   \n",
       "3  arcgisonline_1747284.tif  2925.907475  2924.952538  20160302.0   \n",
       "4   arcgisonline_411890.tif  5270.397670    15.310323  20150315.0   \n",
       "\n",
       "                            file_name_pred  class     class_name  \\\n",
       "0  arcgisonline_1686584_pred_and_score.tif      0  dam and water   \n",
       "1  arcgisonline_1686963_pred_and_score.tif      0  dam and water   \n",
       "2   arcgisonline_437392_pred_and_score.tif      2       no water   \n",
       "3  arcgisonline_1747284_pred_and_score.tif      1         no dam   \n",
       "4   arcgisonline_411890_pred_and_score.tif      2       no water   \n",
       "\n",
       "                           geometry  \n",
       "0  POINT (-943988.599 -3637895.597)  \n",
       "1  POINT (-965660.198 -3651584.893)  \n",
       "2  POINT (1448235.502 -3334977.496)  \n",
       "3  POINT (1299932.576 -4777809.258)  \n",
       "4  POINT (1189137.120 -3799738.803)  "
      ]
     },
     "execution_count": 15,
     "metadata": {},
     "output_type": "execute_result"
    }
   ],
   "source": [
    "# open vector data\n",
    "points = gpd.read_file(point_data_input_path)\n",
    "points.head()"
   ]
  },
  {
   "cell_type": "code",
   "execution_count": 16,
   "metadata": {},
   "outputs": [],
   "source": [
    "# reproject to WGS 84 if not already\n",
    "if points.crs.to_epsg() != 4326:\n",
    "    points = points.to_crs(\"EPSG:4326\")"
   ]
  },
  {
   "cell_type": "code",
   "execution_count": 17,
   "metadata": {},
   "outputs": [
    {
     "name": "stdout",
     "output_type": "stream",
     "text": [
      "12 months\n"
     ]
    }
   ],
   "source": [
    "# how many years of data did you want to extract?\n",
    "historic_years = 1\n",
    "historic_months = historic_years*12\n",
    "print(historic_months,'months')"
   ]
  },
  {
   "cell_type": "code",
   "execution_count": 18,
   "metadata": {},
   "outputs": [],
   "source": [
    "# func to calc the number of months between two dates\n",
    "def diff_month(d1, d2):\n",
    "    return (d1.year - d2.year) * 12 + d1.month - d2.month"
   ]
  },
  {
   "cell_type": "code",
   "execution_count": 19,
   "metadata": {},
   "outputs": [],
   "source": [
    "# extracts metadata from nc files \n",
    "def nc_getter(raster):\n",
    "    raster_name = os.path.basename(raster)\n",
    "    raster_name_split = raster_name.split('_')\n",
    "    raster_type = raster_name_split[2]\n",
    "    if raster_type == 'tavg':\n",
    "        raster_type = 'avgt'\n",
    "    raster_year = int(raster_name_split[4][:4])\n",
    "    raster_month = int(raster_name_split[4][4:6])\n",
    "    return(raster_name,raster_type,raster_year,raster_month)"
   ]
  },
  {
   "cell_type": "code",
   "execution_count": 20,
   "metadata": {},
   "outputs": [],
   "source": [
    "# # extracts metadata from adf files\n",
    "# def adf_getter(raster):\n",
    "#     raster_name = raster.split('/')[-2]\n",
    "#     raster_type = re.search('(\\D*)',raster_name)[0]\n",
    "#     if raster_type == 'tavg':\n",
    "#         raster_type = 'avgt'\n",
    "#     raster_year = int('20'+re.search('(\\d\\d)',raster_name)[0])\n",
    "#     raster_month = int(re.search('(\\d\\d$)',raster_name)[0])\n",
    "#     return(raster_name,raster_type,raster_year,raster_month)"
   ]
  },
  {
   "cell_type": "code",
   "execution_count": 21,
   "metadata": {},
   "outputs": [],
   "source": [
    "# def flt_getter(raster):\n",
    "#     raster_name = os.path.basename(raster).replace('.flt','')\n",
    "#     raster_type = raster_name.split('_')[1]\n",
    "#     if raster_type == 'tavg':\n",
    "#         raster_type = 'avgt'\n",
    "#     raster_year = int(raster_name.split('_')[-1][0:4])\n",
    "#     raster_month = int(raster_name.split('_')[-1][4:6])\n",
    "#     return(raster_name,raster_type,raster_year,raster_month)"
   ]
  },
  {
   "cell_type": "code",
   "execution_count": 22,
   "metadata": {},
   "outputs": [],
   "source": [
    "# func to extract point values from raster, it will also pull raster meta with the funcs above\n",
    "def extract_raster_vals(raster):\n",
    "\n",
    "    raster_name,raster_type,raster_year,raster_month = nc_getter(raster)\n",
    "#       build datetime object from raster date, we need to set a day so just pick 1st\n",
    "    raster_date = dt.date(year=raster_year, month=raster_month, day=1)\n",
    "\n",
    "    #checks if point values are more recent (or the same) as the raster\n",
    "    if sample_date>=raster_date:\n",
    "\n",
    "        #how many months between the raster and the sample\n",
    "        month_dif = diff_month(sample_date,raster_date)\n",
    "\n",
    "#           check month dif is within selected range\n",
    "        if month_dif <= historic_months:\n",
    "#               make column name from month dif (month offset)\n",
    "            col_name = raster_type+'_'+str(month_dif)+'_'+'months before'\n",
    "\n",
    "            #open raster\n",
    "            src = rasterio.open(raster)\n",
    "            raster_vals = []\n",
    "#               pull out all point values at once\n",
    "            for val in src.sample(sample_coord_list):\n",
    "#                     print(val[0])\n",
    "                raster_vals.append(val[0])\n",
    "            #return a dict of name and raster point values\n",
    "            return {'date' : col_name,\n",
    "                    'point_values' : raster_vals}\n",
    "\n",
    "\n",
    "#     return None if raster not used\n",
    "    return None\n",
    "\n",
    "        "
   ]
  },
  {
   "cell_type": "code",
   "execution_count": 23,
   "metadata": {},
   "outputs": [
    {
     "data": {
      "text/plain": [
       "24"
      ]
     },
     "execution_count": 23,
     "metadata": {},
     "output_type": "execute_result"
    }
   ],
   "source": [
    "# build list of each year and moth combo\n",
    "start_times = []\n",
    "for year in years:\n",
    "    for month in months:\n",
    "        start_times.append({'year' : year, 'month' : month})\n",
    "len(start_times)"
   ]
  },
  {
   "cell_type": "code",
   "execution_count": 24,
   "metadata": {},
   "outputs": [
    {
     "data": {
      "application/vnd.jupyter.widget-view+json": {
       "model_id": "c576d45334eb43b985ee24352e8bfd72",
       "version_major": 2,
       "version_minor": 0
      },
      "text/plain": [
       "  0%|          | 0/3000 [00:00<?, ?it/s]"
      ]
     },
     "metadata": {},
     "output_type": "display_data"
    }
   ],
   "source": [
    "#grab a copy of the input data\n",
    "sample_chunk = points\n",
    "sample_coord_list = []\n",
    "#       biuld list of coords to sample\n",
    "for index, row in tqdm(sample_chunk.iterrows(),total = sample_chunk.shape[0]):\n",
    "    coord = (row['geometry'].x,row['geometry'].y)\n",
    "    sample_coord_list.append(coord)\n"
   ]
  },
  {
   "cell_type": "code",
   "execution_count": 25,
   "metadata": {},
   "outputs": [
    {
     "data": {
      "text/html": [
       "<div>\n",
       "<style scoped>\n",
       "    .dataframe tbody tr th:only-of-type {\n",
       "        vertical-align: middle;\n",
       "    }\n",
       "\n",
       "    .dataframe tbody tr th {\n",
       "        vertical-align: top;\n",
       "    }\n",
       "\n",
       "    .dataframe thead th {\n",
       "        text-align: right;\n",
       "    }\n",
       "</style>\n",
       "<table border=\"1\" class=\"dataframe\">\n",
       "  <thead>\n",
       "    <tr style=\"text-align: right;\">\n",
       "      <th></th>\n",
       "      <th>file_name</th>\n",
       "      <th>area</th>\n",
       "      <th>area_2</th>\n",
       "      <th>SRC_DATE</th>\n",
       "      <th>file_name_pred</th>\n",
       "      <th>class</th>\n",
       "      <th>class_name</th>\n",
       "      <th>geometry</th>\n",
       "    </tr>\n",
       "  </thead>\n",
       "  <tbody>\n",
       "    <tr>\n",
       "      <th>0</th>\n",
       "      <td>arcgisonline_1686584.tif</td>\n",
       "      <td>1472.265188</td>\n",
       "      <td>293.852789</td>\n",
       "      <td>20160217.0</td>\n",
       "      <td>arcgisonline_1686584_pred_and_score.tif</td>\n",
       "      <td>0</td>\n",
       "      <td>dam and water</td>\n",
       "      <td>POINT (121.81365 -33.00993)</td>\n",
       "    </tr>\n",
       "    <tr>\n",
       "      <th>1</th>\n",
       "      <td>arcgisonline_1686963.tif</td>\n",
       "      <td>3511.531725</td>\n",
       "      <td>1348.727385</td>\n",
       "      <td>20150121.0</td>\n",
       "      <td>arcgisonline_1686963_pred_and_score.tif</td>\n",
       "      <td>0</td>\n",
       "      <td>dam and water</td>\n",
       "      <td>POINT (121.56879 -33.11645)</td>\n",
       "    </tr>\n",
       "    <tr>\n",
       "      <th>2</th>\n",
       "      <td>arcgisonline_437392.tif</td>\n",
       "      <td>7400.931025</td>\n",
       "      <td>NaN</td>\n",
       "      <td>20161230.0</td>\n",
       "      <td>arcgisonline_437392_pred_and_score.tif</td>\n",
       "      <td>2</td>\n",
       "      <td>no water</td>\n",
       "      <td>POINT (147.19718 -29.86992)</td>\n",
       "    </tr>\n",
       "    <tr>\n",
       "      <th>3</th>\n",
       "      <td>arcgisonline_1747284.tif</td>\n",
       "      <td>2925.907475</td>\n",
       "      <td>2924.952538</td>\n",
       "      <td>20160302.0</td>\n",
       "      <td>arcgisonline_1747284_pred_and_score.tif</td>\n",
       "      <td>1</td>\n",
       "      <td>no dam</td>\n",
       "      <td>POINT (147.48199 -42.99337)</td>\n",
       "    </tr>\n",
       "    <tr>\n",
       "      <th>4</th>\n",
       "      <td>arcgisonline_411890.tif</td>\n",
       "      <td>5270.397670</td>\n",
       "      <td>15.310323</td>\n",
       "      <td>20150315.0</td>\n",
       "      <td>arcgisonline_411890_pred_and_score.tif</td>\n",
       "      <td>2</td>\n",
       "      <td>no water</td>\n",
       "      <td>POINT (144.99259 -34.25548)</td>\n",
       "    </tr>\n",
       "  </tbody>\n",
       "</table>\n",
       "</div>"
      ],
      "text/plain": [
       "                  file_name         area       area_2    SRC_DATE  \\\n",
       "0  arcgisonline_1686584.tif  1472.265188   293.852789  20160217.0   \n",
       "1  arcgisonline_1686963.tif  3511.531725  1348.727385  20150121.0   \n",
       "2   arcgisonline_437392.tif  7400.931025          NaN  20161230.0   \n",
       "3  arcgisonline_1747284.tif  2925.907475  2924.952538  20160302.0   \n",
       "4   arcgisonline_411890.tif  5270.397670    15.310323  20150315.0   \n",
       "\n",
       "                            file_name_pred  class     class_name  \\\n",
       "0  arcgisonline_1686584_pred_and_score.tif      0  dam and water   \n",
       "1  arcgisonline_1686963_pred_and_score.tif      0  dam and water   \n",
       "2   arcgisonline_437392_pred_and_score.tif      2       no water   \n",
       "3  arcgisonline_1747284_pred_and_score.tif      1         no dam   \n",
       "4   arcgisonline_411890_pred_and_score.tif      2       no water   \n",
       "\n",
       "                      geometry  \n",
       "0  POINT (121.81365 -33.00993)  \n",
       "1  POINT (121.56879 -33.11645)  \n",
       "2  POINT (147.19718 -29.86992)  \n",
       "3  POINT (147.48199 -42.99337)  \n",
       "4  POINT (144.99259 -34.25548)  "
      ]
     },
     "execution_count": 25,
     "metadata": {},
     "output_type": "execute_result"
    }
   ],
   "source": [
    "sample_chunk.head()"
   ]
  },
  {
   "cell_type": "code",
   "execution_count": 26,
   "metadata": {},
   "outputs": [],
   "source": [
    "def compile_and_export(multi_cols,save_path):\n",
    "    monthly_point_sample = {}\n",
    "    for data_sample in multi_cols:\n",
    "        if data_sample != None:\n",
    "            monthly_point_sample[data_sample['date']] = data_sample['point_values']\n",
    "\n",
    "    point_sample_df = pd.DataFrame(monthly_point_sample)\n",
    "    joined_data = pd.merge(sample_chunk, point_sample_df, left_index=True, right_index=True)\n",
    "    joined_data.to_pickle(save_path)\n"
   ]
  },
  {
   "cell_type": "code",
   "execution_count": 28,
   "metadata": {
    "scrolled": true
   },
   "outputs": [
    {
     "data": {
      "application/vnd.jupyter.widget-view+json": {
       "model_id": "ce6677e4c8304c4b843af0fa4bb04dff",
       "version_major": 2,
       "version_minor": 0
      },
      "text/plain": [
       "Total progress:   0%|          | 0/24 [00:00<?, ?it/s]"
      ]
     },
     "metadata": {},
     "output_type": "display_data"
    },
    {
     "data": {
      "application/vnd.jupyter.widget-view+json": {
       "model_id": "",
       "version_major": 2,
       "version_minor": 0
      },
      "text/plain": [
       "Month chunk 2021-09-01:   0%|          | 0/72 [00:00<?, ?it/s]"
      ]
     },
     "metadata": {},
     "output_type": "display_data"
    },
    {
     "data": {
      "application/vnd.jupyter.widget-view+json": {
       "model_id": "",
       "version_major": 2,
       "version_minor": 0
      },
      "text/plain": [
       "Month chunk 2021-10-01:   0%|          | 0/72 [00:00<?, ?it/s]"
      ]
     },
     "metadata": {},
     "output_type": "display_data"
    },
    {
     "data": {
      "application/vnd.jupyter.widget-view+json": {
       "model_id": "",
       "version_major": 2,
       "version_minor": 0
      },
      "text/plain": [
       "Month chunk 2021-11-01:   0%|          | 0/72 [00:00<?, ?it/s]"
      ]
     },
     "metadata": {},
     "output_type": "display_data"
    },
    {
     "data": {
      "application/vnd.jupyter.widget-view+json": {
       "model_id": "",
       "version_major": 2,
       "version_minor": 0
      },
      "text/plain": [
       "Month chunk 2021-12-01:   0%|          | 0/72 [00:00<?, ?it/s]"
      ]
     },
     "metadata": {},
     "output_type": "display_data"
    },
    {
     "name": "stdout",
     "output_type": "stream",
     "text": [
      "Done\n"
     ]
    }
   ],
   "source": [
    "# loop over each year month combo\n",
    "for time_step in tqdm(start_times, desc = 'Total progress'):\n",
    "#     extract each year and month \n",
    "    sample_year = time_step['year']\n",
    "    sample_month = time_step['month']\n",
    "    sample_date = dt.date(year=sample_year, month=sample_month, day=1)\n",
    "#     build filename from start date\n",
    "    file_name = str(sample_year)+'-'+str(sample_month)+'.pkl'\n",
    "    save_path = os.path.join(time_step_folder,file_name)\n",
    "#     check if already done\n",
    "    if not os.path.isfile(save_path):\n",
    "#         use a multithreaded pool to extract data\n",
    "\n",
    "        with Pool() as p:\n",
    "            multi_cols = list(tqdm(p.imap(extract_raster_vals, short_list), \n",
    "                                   total=len(short_list),leave=False,\n",
    "                                  desc=f'Month chunk {sample_date}'))\n",
    "#         sort and export data in thread to save some time\n",
    "        export = Thread(target=compile_and_export, args=(multi_cols,save_path))\n",
    "        export.start()\n",
    "        \n",
    "# keep looking while exporting data\n",
    "while export.is_alive():\n",
    "    time.sleep(1)\n",
    "print(\"Done\")"
   ]
  },
  {
   "cell_type": "code",
   "execution_count": null,
   "metadata": {},
   "outputs": [],
   "source": []
  }
 ],
 "metadata": {
  "kernelspec": {
   "display_name": "Python 3 (ipykernel)",
   "language": "python",
   "name": "python3"
  },
  "language_info": {
   "codemirror_mode": {
    "name": "ipython",
    "version": 3
   },
   "file_extension": ".py",
   "mimetype": "text/x-python",
   "name": "python",
   "nbconvert_exporter": "python",
   "pygments_lexer": "ipython3",
   "version": "3.8.10"
  }
 },
 "nbformat": 4,
 "nbformat_minor": 4
}
